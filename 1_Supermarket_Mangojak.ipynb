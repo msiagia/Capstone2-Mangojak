{
 "cells": [
  {
   "cell_type": "code",
   "execution_count": null,
   "metadata": {
    "id": "Fs0w7M0v3srq"
   },
   "outputs": [],
   "source": []
  },
  {
   "cell_type": "markdown",
   "metadata": {
    "id": "DA5MCmob5MdM"
   },
   "source": [
    "# Latar Belakang"
   ]
  },
  {
   "cell_type": "markdown",
   "metadata": {
    "id": "6m6-tUk457ye"
   },
   "source": [
    "Sebuah perusahaan bergerak di bidang retail Supermarket melakukan analisa data penjualan mereka. Datanya banyak sekali, termasuk juga data yang tidak valid, dan harus dibersihkan."
   ]
  },
  {
   "cell_type": "markdown",
   "metadata": {
    "id": "aipE0nQ-5mAx"
   },
   "source": [
    "\n",
    "Pernyataan Masalah\n",
    "---\n",
    "\n"
   ]
  },
  {
   "cell_type": "markdown",
   "metadata": {
    "id": "O8eSTgIA564-"
   },
   "source": [
    "Perusahaan ingin mengetahui hal-hal yang mereka dapat tingkatkan dari data yang disediakan seperti distribusi waktu pembelian, pembelian terbanyak, effektifitas promosi dan lainnya."
   ]
  },
  {
   "cell_type": "markdown",
   "metadata": {
    "id": "UIbLC6mQ5-P-"
   },
   "source": [
    "# Data"
   ]
  },
  {
   "cell_type": "markdown",
   "metadata": {},
   "source": [
    "# Data Clean Up"
   ]
  },
  {
   "cell_type": "markdown",
   "metadata": {
    "id": "bAFaVcsq6CXo"
   },
   "source": [
    "Untuk menjawab pertanyaan diatas, kita akan menganalisa data yang sudah dikumpulkan. Data set dapat diakses disini:"
   ]
  },
  {
   "cell_type": "code",
   "execution_count": 5,
   "metadata": {},
   "outputs": [],
   "source": [
    "file_path = \"D:\\\\1 PURWADHIKA\\\\CAPSTONE-2\\\\SUPERMARKET\\\\Supermarket Customers.csv\""
   ]
  },
  {
   "cell_type": "markdown",
   "metadata": {},
   "source": [
    "Dataset ini berisi informasi terkait data customers, riwayat perbelanjaan mereka, kampanye promosi dan lainnya. Ada 27 kolom didalam dataset yaitu:\n",
    "\n",
    "People\n",
    " ● ID:Customer's unique identifier\n",
    " ● Year_Birth: Customer's birth year\n",
    " ● Education: Customer's education level\n",
    " ● Marital_Status: Customer's marital status\n",
    " ● Income: Customer's yearly household income\n",
    " ● Kidhome: Number of children in customer's household\n",
    " ● Teenhome: Number of teenagers in customer's household\n",
    " ● Dt_Customer: Date of customer's enrollment with the company\n",
    " ● Recency: Number of days since customer's last purchase\n",
    " ● Complain: 1 if the customer complained in the last 2 years, 0 otherwise\n",
    " Products\n",
    " ● MntWines: Amount spent on wine in last 2 years\n",
    " ● MntFruits: Amount spent on fruits in last 2 years\n",
    " ● MntMeatProducts: Amount spent on meat in last 2 years\n",
    " ● MntFishProducts: Amount spent on fish in last 2 years\n",
    " ● MntSweetProducts: Amount spent on sweets in last 2 years\n",
    " ● MntGoldProds: Amount spent on gold in last 2 years\n",
    " Promotion\n",
    " ● NumDealsPurchases: Number of purchases made with a discount\n",
    " ● AcceptedCmp1: 1 if the customer accepted the offer in the 1st campaign, 0 otherwise\n",
    " ● AcceptedCmp2: 1 if the customer accepted the offer in the 2nd campaign, 0 otherwise\n",
    " ● AcceptedCmp3: 1 if the customer accepted the offer in the 3rd campaign, 0 otherwise\n",
    " ● AcceptedCmp4: 1 if the customer accepted the offer in the 4th campaign, 0 otherwise\n",
    " ● AcceptedCmp5: 1 if the customer accepted the offer in the 5th campaign, 0 otherwise\n",
    " ● Response: 1 if the customer accepted the offer in the last campaign, 0 otherwise\n",
    " Place\n",
    " ● NumWebPurchases: Number of purchases made through the company’s website\n",
    " ● NumCatalogPurchases: Number of purchases made using a catalog\n",
    " ● NumStorePurchases: Number of purchases made directly in stores\n",
    " ● NumWebVisitsMonth: Number of visits to the company’s website in the last mont\n",
    "\n",
    "Berikut 5 baris teratas dan terbawah dari dataset tersebut:\n"
   ]
  },
  {
   "cell_type": "code",
   "execution_count": 6,
   "metadata": {},
   "outputs": [
    {
     "data": {
      "text/html": [
       "<div>\n",
       "<style scoped>\n",
       "    .dataframe tbody tr th:only-of-type {\n",
       "        vertical-align: middle;\n",
       "    }\n",
       "\n",
       "    .dataframe tbody tr th {\n",
       "        vertical-align: top;\n",
       "    }\n",
       "\n",
       "    .dataframe thead th {\n",
       "        text-align: right;\n",
       "    }\n",
       "</style>\n",
       "<table border=\"1\" class=\"dataframe\">\n",
       "  <thead>\n",
       "    <tr style=\"text-align: right;\">\n",
       "      <th></th>\n",
       "      <th>ID\\tYear_Birth\\tEducation\\tMarital_Status\\tIncome\\tKidhome\\tTeenhome\\tDt_Customer\\tRecency\\tMntWines\\tMntFruits\\tMntMeatProducts\\tMntFishProducts\\tMntSweetProducts\\tMntGoldProds\\tNumDealsPurchases\\tNumWebPurchases\\tNumCatalogPurchases\\tNumStorePurchases\\tNumWebVisitsMonth\\tAcceptedCmp3\\tAcceptedCmp4\\tAcceptedCmp5\\tAcceptedCmp1\\tAcceptedCmp2\\tComplain\\tZ_CostContact\\tZ_Revenue\\tResponse</th>\n",
       "    </tr>\n",
       "  </thead>\n",
       "  <tbody>\n",
       "    <tr>\n",
       "      <th>0</th>\n",
       "      <td>5524\\t1957\\tGraduation\\tSingle\\t58138\\t0\\t0\\t0...</td>\n",
       "    </tr>\n",
       "    <tr>\n",
       "      <th>1</th>\n",
       "      <td>2174\\t1954\\tGraduation\\tSingle\\t46344\\t1\\t1\\t0...</td>\n",
       "    </tr>\n",
       "    <tr>\n",
       "      <th>2</th>\n",
       "      <td>4141\\t1965\\tGraduation\\tTogether\\t71613\\t0\\t0\\...</td>\n",
       "    </tr>\n",
       "    <tr>\n",
       "      <th>3</th>\n",
       "      <td>6182\\t1984\\tGraduation\\tTogether\\t26646\\t1\\t0\\...</td>\n",
       "    </tr>\n",
       "    <tr>\n",
       "      <th>4</th>\n",
       "      <td>5324\\t1981\\tPhD\\tMarried\\t58293\\t1\\t0\\t19-01-2...</td>\n",
       "    </tr>\n",
       "  </tbody>\n",
       "</table>\n",
       "</div>"
      ],
      "text/plain": [
       "  ID\\tYear_Birth\\tEducation\\tMarital_Status\\tIncome\\tKidhome\\tTeenhome\\tDt_Customer\\tRecency\\tMntWines\\tMntFruits\\tMntMeatProducts\\tMntFishProducts\\tMntSweetProducts\\tMntGoldProds\\tNumDealsPurchases\\tNumWebPurchases\\tNumCatalogPurchases\\tNumStorePurchases\\tNumWebVisitsMonth\\tAcceptedCmp3\\tAcceptedCmp4\\tAcceptedCmp5\\tAcceptedCmp1\\tAcceptedCmp2\\tComplain\\tZ_CostContact\\tZ_Revenue\\tResponse\n",
       "0  5524\\t1957\\tGraduation\\tSingle\\t58138\\t0\\t0\\t0...                                                                                                                                                                                                                                                                                                                                                  \n",
       "1  2174\\t1954\\tGraduation\\tSingle\\t46344\\t1\\t1\\t0...                                                                                                                                                                                                                                                                                                                                                  \n",
       "2  4141\\t1965\\tGraduation\\tTogether\\t71613\\t0\\t0\\...                                                                                                                                                                                                                                                                                                                                                  \n",
       "3  6182\\t1984\\tGraduation\\tTogether\\t26646\\t1\\t0\\...                                                                                                                                                                                                                                                                                                                                                  \n",
       "4  5324\\t1981\\tPhD\\tMarried\\t58293\\t1\\t0\\t19-01-2...                                                                                                                                                                                                                                                                                                                                                  "
      ]
     },
     "metadata": {},
     "output_type": "display_data"
    },
    {
     "data": {
      "text/html": [
       "<div>\n",
       "<style scoped>\n",
       "    .dataframe tbody tr th:only-of-type {\n",
       "        vertical-align: middle;\n",
       "    }\n",
       "\n",
       "    .dataframe tbody tr th {\n",
       "        vertical-align: top;\n",
       "    }\n",
       "\n",
       "    .dataframe thead th {\n",
       "        text-align: right;\n",
       "    }\n",
       "</style>\n",
       "<table border=\"1\" class=\"dataframe\">\n",
       "  <thead>\n",
       "    <tr style=\"text-align: right;\">\n",
       "      <th></th>\n",
       "      <th>ID\\tYear_Birth\\tEducation\\tMarital_Status\\tIncome\\tKidhome\\tTeenhome\\tDt_Customer\\tRecency\\tMntWines\\tMntFruits\\tMntMeatProducts\\tMntFishProducts\\tMntSweetProducts\\tMntGoldProds\\tNumDealsPurchases\\tNumWebPurchases\\tNumCatalogPurchases\\tNumStorePurchases\\tNumWebVisitsMonth\\tAcceptedCmp3\\tAcceptedCmp4\\tAcceptedCmp5\\tAcceptedCmp1\\tAcceptedCmp2\\tComplain\\tZ_CostContact\\tZ_Revenue\\tResponse</th>\n",
       "    </tr>\n",
       "  </thead>\n",
       "  <tbody>\n",
       "    <tr>\n",
       "      <th>2235</th>\n",
       "      <td>10870\\t1967\\tGraduation\\tMarried\\t61223\\t0\\t1\\...</td>\n",
       "    </tr>\n",
       "    <tr>\n",
       "      <th>2236</th>\n",
       "      <td>4001\\t1946\\tPhD\\tTogether\\t64014\\t2\\t1\\t10-06-...</td>\n",
       "    </tr>\n",
       "    <tr>\n",
       "      <th>2237</th>\n",
       "      <td>7270\\t1981\\tGraduation\\tDivorced\\t56981\\t0\\t0\\...</td>\n",
       "    </tr>\n",
       "    <tr>\n",
       "      <th>2238</th>\n",
       "      <td>8235\\t1956\\tMaster\\tTogether\\t69245\\t0\\t1\\t24-...</td>\n",
       "    </tr>\n",
       "    <tr>\n",
       "      <th>2239</th>\n",
       "      <td>9405\\t1954\\tPhD\\tMarried\\t52869\\t1\\t1\\t15-10-2...</td>\n",
       "    </tr>\n",
       "  </tbody>\n",
       "</table>\n",
       "</div>"
      ],
      "text/plain": [
       "     ID\\tYear_Birth\\tEducation\\tMarital_Status\\tIncome\\tKidhome\\tTeenhome\\tDt_Customer\\tRecency\\tMntWines\\tMntFruits\\tMntMeatProducts\\tMntFishProducts\\tMntSweetProducts\\tMntGoldProds\\tNumDealsPurchases\\tNumWebPurchases\\tNumCatalogPurchases\\tNumStorePurchases\\tNumWebVisitsMonth\\tAcceptedCmp3\\tAcceptedCmp4\\tAcceptedCmp5\\tAcceptedCmp1\\tAcceptedCmp2\\tComplain\\tZ_CostContact\\tZ_Revenue\\tResponse\n",
       "2235  10870\\t1967\\tGraduation\\tMarried\\t61223\\t0\\t1\\...                                                                                                                                                                                                                                                                                                                                                  \n",
       "2236  4001\\t1946\\tPhD\\tTogether\\t64014\\t2\\t1\\t10-06-...                                                                                                                                                                                                                                                                                                                                                  \n",
       "2237  7270\\t1981\\tGraduation\\tDivorced\\t56981\\t0\\t0\\...                                                                                                                                                                                                                                                                                                                                                  \n",
       "2238  8235\\t1956\\tMaster\\tTogether\\t69245\\t0\\t1\\t24-...                                                                                                                                                                                                                                                                                                                                                  \n",
       "2239  9405\\t1954\\tPhD\\tMarried\\t52869\\t1\\t1\\t15-10-2...                                                                                                                                                                                                                                                                                                                                                  "
      ]
     },
     "metadata": {},
     "output_type": "display_data"
    }
   ],
   "source": [
    "import pandas as pd\n",
    "df=pd.read_csv(file_path)\n",
    "display(df.head(),df.tail())"
   ]
  },
  {
   "cell_type": "markdown",
   "metadata": {},
   "source": [
    "Data cleaning:\n",
    "Pembersihan data dilakukan dengan script-script dibawah ini. Data dibersihkan dari nilai 'null' dan juga dari outliers. "
   ]
  },
  {
   "cell_type": "code",
   "execution_count": 7,
   "metadata": {},
   "outputs": [
    {
     "name": "stdout",
     "output_type": "stream",
     "text": [
      "         ID  Year_Birth   Education Marital_Status   Income  Kidhome  \\\n",
      "0      5524        1957  Graduation         Single  58138.0        0   \n",
      "1      2174        1954  Graduation         Single  46344.0        1   \n",
      "2      4141        1965  Graduation       Together  71613.0        0   \n",
      "3      6182        1984  Graduation       Together  26646.0        1   \n",
      "4      5324        1981         PhD        Married  58293.0        1   \n",
      "...     ...         ...         ...            ...      ...      ...   \n",
      "2235  10870        1967  Graduation        Married  61223.0        0   \n",
      "2236   4001        1946         PhD       Together  64014.0        2   \n",
      "2237   7270        1981  Graduation       Divorced  56981.0        0   \n",
      "2238   8235        1956      Master       Together  69245.0        0   \n",
      "2239   9405        1954         PhD        Married  52869.0        1   \n",
      "\n",
      "      Teenhome Dt_Customer  Recency  MntWines  ...  AcceptedCmp3  \\\n",
      "0            0  04-09-2012       58       635  ...             0   \n",
      "1            1  08-03-2014       38        11  ...             0   \n",
      "2            0  21-08-2013       26       426  ...             0   \n",
      "3            0  10-02-2014       26        11  ...             0   \n",
      "4            0  19-01-2014       94       173  ...             0   \n",
      "...        ...         ...      ...       ...  ...           ...   \n",
      "2235         1  13-06-2013       46       709  ...             0   \n",
      "2236         1  10-06-2014       56       406  ...             0   \n",
      "2237         0  25-01-2014       91       908  ...             0   \n",
      "2238         1  24-01-2014        8       428  ...             0   \n",
      "2239         1  15-10-2012       40        84  ...             0   \n",
      "\n",
      "      AcceptedCmp4  AcceptedCmp5  AcceptedCmp1  AcceptedCmp2  Complain  \\\n",
      "0                0             0             0             0         0   \n",
      "1                0             0             0             0         0   \n",
      "2                0             0             0             0         0   \n",
      "3                0             0             0             0         0   \n",
      "4                0             0             0             0         0   \n",
      "...            ...           ...           ...           ...       ...   \n",
      "2235             0             0             0             0         0   \n",
      "2236             0             0             1             0         0   \n",
      "2237             1             0             0             0         0   \n",
      "2238             0             0             0             0         0   \n",
      "2239             0             0             0             0         0   \n",
      "\n",
      "      Z_CostContact  Z_Revenue  Response  Age  \n",
      "0                 3         11         1   68  \n",
      "1                 3         11         0   71  \n",
      "2                 3         11         0   60  \n",
      "3                 3         11         0   41  \n",
      "4                 3         11         0   44  \n",
      "...             ...        ...       ...  ...  \n",
      "2235              3         11         0   58  \n",
      "2236              3         11         0   79  \n",
      "2237              3         11         0   44  \n",
      "2238              3         11         0   69  \n",
      "2239              3         11         1   71  \n",
      "\n",
      "[2240 rows x 30 columns]\n"
     ]
    }
   ],
   "source": [
    "import pandas as pd\n",
    "\n",
    "# Load dataset\n",
    "\n",
    "df = pd.read_csv(file_path, delimiter='\\t')\n",
    "df['Year_Birth'] = pd.to_numeric(df['Year_Birth'], errors='coerce')\n",
    "df['Income'] = pd.to_numeric(df['Income'], errors='coerce')\n",
    "df['Age'] = 2025 - df['Year_Birth']\n",
    "\n",
    "print(df)"
   ]
  },
  {
   "cell_type": "markdown",
   "metadata": {},
   "source": [
    "Pemeriksaan atas dataset yang sudah dibersihkan dilakukan dengan script dibawah ini menghasilkan masih ada 24 data dari 'Income' yang punya nilai 'null'"
   ]
  },
  {
   "cell_type": "code",
   "execution_count": 8,
   "metadata": {},
   "outputs": [
    {
     "data": {
      "text/plain": [
       "ID                      0\n",
       "Year_Birth              0\n",
       "Education               0\n",
       "Marital_Status          0\n",
       "Income                 24\n",
       "Kidhome                 0\n",
       "Teenhome                0\n",
       "Dt_Customer             0\n",
       "Recency                 0\n",
       "MntWines                0\n",
       "MntFruits               0\n",
       "MntMeatProducts         0\n",
       "MntFishProducts         0\n",
       "MntSweetProducts        0\n",
       "MntGoldProds            0\n",
       "NumDealsPurchases       0\n",
       "NumWebPurchases         0\n",
       "NumCatalogPurchases     0\n",
       "NumStorePurchases       0\n",
       "NumWebVisitsMonth       0\n",
       "AcceptedCmp3            0\n",
       "AcceptedCmp4            0\n",
       "AcceptedCmp5            0\n",
       "AcceptedCmp1            0\n",
       "AcceptedCmp2            0\n",
       "Complain                0\n",
       "Z_CostContact           0\n",
       "Z_Revenue               0\n",
       "Response                0\n",
       "Age                     0\n",
       "dtype: int64"
      ]
     },
     "execution_count": 8,
     "metadata": {},
     "output_type": "execute_result"
    }
   ],
   "source": [
    "df.isnull().sum()"
   ]
  },
  {
   "cell_type": "markdown",
   "metadata": {},
   "source": [
    "Script berikut adalah script tambahan untuk membersihkan 24 nilai 'null' pada kolom 'Income'"
   ]
  },
  {
   "cell_type": "code",
   "execution_count": 9,
   "metadata": {},
   "outputs": [
    {
     "name": "stdout",
     "output_type": "stream",
     "text": [
      "         ID  Year_Birth   Education Marital_Status   Income  Kidhome  \\\n",
      "0      5524        1957  Graduation         Single  58138.0        0   \n",
      "1      2174        1954  Graduation         Single  46344.0        1   \n",
      "2      4141        1965  Graduation       Together  71613.0        0   \n",
      "3      6182        1984  Graduation       Together  26646.0        1   \n",
      "4      5324        1981         PhD        Married  58293.0        1   \n",
      "...     ...         ...         ...            ...      ...      ...   \n",
      "2235  10870        1967  Graduation        Married  61223.0        0   \n",
      "2236   4001        1946         PhD       Together  64014.0        2   \n",
      "2237   7270        1981  Graduation       Divorced  56981.0        0   \n",
      "2238   8235        1956      Master       Together  69245.0        0   \n",
      "2239   9405        1954         PhD        Married  52869.0        1   \n",
      "\n",
      "      Teenhome Dt_Customer  Recency  MntWines  ...  AcceptedCmp3  \\\n",
      "0            0  04-09-2012       58       635  ...             0   \n",
      "1            1  08-03-2014       38        11  ...             0   \n",
      "2            0  21-08-2013       26       426  ...             0   \n",
      "3            0  10-02-2014       26        11  ...             0   \n",
      "4            0  19-01-2014       94       173  ...             0   \n",
      "...        ...         ...      ...       ...  ...           ...   \n",
      "2235         1  13-06-2013       46       709  ...             0   \n",
      "2236         1  10-06-2014       56       406  ...             0   \n",
      "2237         0  25-01-2014       91       908  ...             0   \n",
      "2238         1  24-01-2014        8       428  ...             0   \n",
      "2239         1  15-10-2012       40        84  ...             0   \n",
      "\n",
      "      AcceptedCmp4  AcceptedCmp5  AcceptedCmp1  AcceptedCmp2  Complain  \\\n",
      "0                0             0             0             0         0   \n",
      "1                0             0             0             0         0   \n",
      "2                0             0             0             0         0   \n",
      "3                0             0             0             0         0   \n",
      "4                0             0             0             0         0   \n",
      "...            ...           ...           ...           ...       ...   \n",
      "2235             0             0             0             0         0   \n",
      "2236             0             0             1             0         0   \n",
      "2237             1             0             0             0         0   \n",
      "2238             0             0             0             0         0   \n",
      "2239             0             0             0             0         0   \n",
      "\n",
      "      Z_CostContact  Z_Revenue  Response  Age  \n",
      "0                 3         11         1   68  \n",
      "1                 3         11         0   71  \n",
      "2                 3         11         0   60  \n",
      "3                 3         11         0   41  \n",
      "4                 3         11         0   44  \n",
      "...             ...        ...       ...  ...  \n",
      "2235              3         11         0   58  \n",
      "2236              3         11         0   79  \n",
      "2237              3         11         0   44  \n",
      "2238              3         11         0   69  \n",
      "2239              3         11         1   71  \n",
      "\n",
      "[2216 rows x 30 columns]\n"
     ]
    }
   ],
   "source": [
    "df=df.dropna(subset=['Income'])\n",
    "print(df)"
   ]
  },
  {
   "cell_type": "markdown",
   "metadata": {},
   "source": [
    "Kemudian diperiksa kembali dengan script berikut dan hasilnya telah menghilangkan nilai 'null'."
   ]
  },
  {
   "cell_type": "code",
   "execution_count": 10,
   "metadata": {},
   "outputs": [
    {
     "data": {
      "text/plain": [
       "ID                     0\n",
       "Year_Birth             0\n",
       "Education              0\n",
       "Marital_Status         0\n",
       "Income                 0\n",
       "Kidhome                0\n",
       "Teenhome               0\n",
       "Dt_Customer            0\n",
       "Recency                0\n",
       "MntWines               0\n",
       "MntFruits              0\n",
       "MntMeatProducts        0\n",
       "MntFishProducts        0\n",
       "MntSweetProducts       0\n",
       "MntGoldProds           0\n",
       "NumDealsPurchases      0\n",
       "NumWebPurchases        0\n",
       "NumCatalogPurchases    0\n",
       "NumStorePurchases      0\n",
       "NumWebVisitsMonth      0\n",
       "AcceptedCmp3           0\n",
       "AcceptedCmp4           0\n",
       "AcceptedCmp5           0\n",
       "AcceptedCmp1           0\n",
       "AcceptedCmp2           0\n",
       "Complain               0\n",
       "Z_CostContact          0\n",
       "Z_Revenue              0\n",
       "Response               0\n",
       "Age                    0\n",
       "dtype: int64"
      ]
     },
     "execution_count": 10,
     "metadata": {},
     "output_type": "execute_result"
    }
   ],
   "source": [
    "df.isnull().sum()"
   ]
  },
  {
   "cell_type": "markdown",
   "metadata": {},
   "source": [
    "Kemudian dilakukan perhitungan untuk menentukan 'outliers' sekaligus menghapusnya. Penghapusan outliers dilakukan karena tidak mempengaruhi nilai dan populasinya sangat kecil seperti pelanggan berusia 123 tahun. Script berikut melakuan perhitungan 'outliers' sekaligus menghapus dan menyimpan data yang sudah bersih. Setelah ini data sudah bersih/cleaned dan dapat digunakan untuk data analysis maupun untuk membuat 'Dashboard' dengan menggunakan Tableau."
   ]
  },
  {
   "cell_type": "code",
   "execution_count": 11,
   "metadata": {
    "colab": {
     "base_uri": "https://localhost:8080/"
    },
    "executionInfo": {
     "elapsed": 49,
     "status": "ok",
     "timestamp": 1756718351854,
     "user": {
      "displayName": "Mangojak Siagian",
      "userId": "00232580206946922887"
     },
     "user_tz": -420
    },
    "id": "eZ0gwNvZ6QY8",
    "outputId": "7cfd71c1-c836-4c33-f8ba-e5b1dfdbcfe0"
   },
   "outputs": [
    {
     "name": "stdout",
     "output_type": "stream",
     "text": [
      "         ID  Year_Birth   Education Marital_Status   Income  Kidhome  \\\n",
      "0      5524        1957  Graduation         Single  58138.0        0   \n",
      "1      2174        1954  Graduation         Single  46344.0        1   \n",
      "2      4141        1965  Graduation       Together  71613.0        0   \n",
      "3      6182        1984  Graduation       Together  26646.0        1   \n",
      "4      5324        1981         PhD        Married  58293.0        1   \n",
      "...     ...         ...         ...            ...      ...      ...   \n",
      "2235  10870        1967  Graduation        Married  61223.0        0   \n",
      "2236   4001        1946         PhD       Together  64014.0        2   \n",
      "2237   7270        1981  Graduation       Divorced  56981.0        0   \n",
      "2238   8235        1956      Master       Together  69245.0        0   \n",
      "2239   9405        1954         PhD        Married  52869.0        1   \n",
      "\n",
      "      Teenhome Dt_Customer  Recency  MntWines  ...  AcceptedCmp4  \\\n",
      "0            0  04-09-2012       58       635  ...             0   \n",
      "1            1  08-03-2014       38        11  ...             0   \n",
      "2            0  21-08-2013       26       426  ...             0   \n",
      "3            0  10-02-2014       26        11  ...             0   \n",
      "4            0  19-01-2014       94       173  ...             0   \n",
      "...        ...         ...      ...       ...  ...           ...   \n",
      "2235         1  13-06-2013       46       709  ...             0   \n",
      "2236         1  10-06-2014       56       406  ...             0   \n",
      "2237         0  25-01-2014       91       908  ...             1   \n",
      "2238         1  24-01-2014        8       428  ...             0   \n",
      "2239         1  15-10-2012       40        84  ...             0   \n",
      "\n",
      "      AcceptedCmp5  AcceptedCmp1  AcceptedCmp2  Complain  Z_CostContact  \\\n",
      "0                0             0             0         0              3   \n",
      "1                0             0             0         0              3   \n",
      "2                0             0             0         0              3   \n",
      "3                0             0             0         0              3   \n",
      "4                0             0             0         0              3   \n",
      "...            ...           ...           ...       ...            ...   \n",
      "2235             0             0             0         0              3   \n",
      "2236             0             1             0         0              3   \n",
      "2237             0             0             0         0              3   \n",
      "2238             0             0             0         0              3   \n",
      "2239             0             0             0         0              3   \n",
      "\n",
      "      Z_Revenue  Response  Age  outlier  \n",
      "0            11         1   68    False  \n",
      "1            11         0   71    False  \n",
      "2            11         0   60    False  \n",
      "3            11         0   41    False  \n",
      "4            11         0   44    False  \n",
      "...         ...       ...  ...      ...  \n",
      "2235         11         0   58    False  \n",
      "2236         11         0   79    False  \n",
      "2237         11         0   44    False  \n",
      "2238         11         0   69    False  \n",
      "2239         11         1   71    False  \n",
      "\n",
      "[2213 rows x 31 columns]\n",
      "Direktori kerja saat ini: C:\\Users\\msiag\n"
     ]
    }
   ],
   "source": [
    "df_clean = df.dropna()\n",
    "# Menghitung Q1, Q3 dan IQR\n",
    "Q1=df_clean['Age'].quantile(0.25)\n",
    "Q3=df_clean['Age'].quantile(0.75)\n",
    "IQR=Q3-Q1\n",
    "\n",
    "# Menentukan batas bawah dan atas\n",
    "lower_bound=Q1-1.5*IQR\n",
    "upper_bound=Q3+1.5*IQR\n",
    "\n",
    "# Menandai outliers\n",
    "\n",
    "df_clean['outlier']=(df_clean['Age']<lower_bound) | (df_clean['Age']>upper_bound)\n",
    "data_clean=df_clean[~df_clean['outlier']].copy()\n",
    "print(data_clean)\n",
    "data_clean.to_csv(\"Supermarket Customer_Cleaned.csv\", index=False)\n",
    "\n",
    "import os\n",
    "print(\"Direktori kerja saat ini:\", os.getcwd())\n"
   ]
  },
  {
   "cell_type": "markdown",
   "metadata": {
    "id": "Wm8ucvypPovF"
   },
   "source": [
    "Hasil akhir dari script dibawah ini menunjukkan tidak ada lagi data dengan nilai null."
   ]
  },
  {
   "cell_type": "code",
   "execution_count": 12,
   "metadata": {
    "colab": {
     "base_uri": "https://localhost:8080/",
     "height": 1000
    },
    "executionInfo": {
     "elapsed": 45,
     "status": "ok",
     "timestamp": 1756718364225,
     "user": {
      "displayName": "Mangojak Siagian",
      "userId": "00232580206946922887"
     },
     "user_tz": -420
    },
    "id": "kz4KLXOJPmFX",
    "outputId": "7efa9611-366f-43ef-9929-29c8f068698b"
   },
   "outputs": [
    {
     "data": {
      "text/plain": [
       "ID                     0\n",
       "Year_Birth             0\n",
       "Education              0\n",
       "Marital_Status         0\n",
       "Income                 0\n",
       "Kidhome                0\n",
       "Teenhome               0\n",
       "Dt_Customer            0\n",
       "Recency                0\n",
       "MntWines               0\n",
       "MntFruits              0\n",
       "MntMeatProducts        0\n",
       "MntFishProducts        0\n",
       "MntSweetProducts       0\n",
       "MntGoldProds           0\n",
       "NumDealsPurchases      0\n",
       "NumWebPurchases        0\n",
       "NumCatalogPurchases    0\n",
       "NumStorePurchases      0\n",
       "NumWebVisitsMonth      0\n",
       "AcceptedCmp3           0\n",
       "AcceptedCmp4           0\n",
       "AcceptedCmp5           0\n",
       "AcceptedCmp1           0\n",
       "AcceptedCmp2           0\n",
       "Complain               0\n",
       "Z_CostContact          0\n",
       "Z_Revenue              0\n",
       "Response               0\n",
       "Age                    0\n",
       "dtype: int64"
      ]
     },
     "execution_count": 12,
     "metadata": {},
     "output_type": "execute_result"
    }
   ],
   "source": [
    "df.isnull().sum()"
   ]
  },
  {
   "cell_type": "markdown",
   "metadata": {
    "id": "w2DwKvSuWo8L"
   },
   "source": [
    "Dibawah ini adalah script yang memberikan Risalah Statistik dengan memakai data_clean.describe() dengan hasil dibawah ini:"
   ]
  },
  {
   "cell_type": "code",
   "execution_count": 13,
   "metadata": {
    "colab": {
     "base_uri": "https://localhost:8080/",
     "height": 349
    },
    "executionInfo": {
     "elapsed": 85,
     "status": "ok",
     "timestamp": 1756718375730,
     "user": {
      "displayName": "Mangojak Siagian",
      "userId": "00232580206946922887"
     },
     "user_tz": -420
    },
    "id": "jt17lqVPWvAS",
    "outputId": "5f4bba59-ba88-4bf6-8f14-772847e2a4d0",
    "scrolled": true
   },
   "outputs": [
    {
     "data": {
      "text/html": [
       "<div>\n",
       "<style scoped>\n",
       "    .dataframe tbody tr th:only-of-type {\n",
       "        vertical-align: middle;\n",
       "    }\n",
       "\n",
       "    .dataframe tbody tr th {\n",
       "        vertical-align: top;\n",
       "    }\n",
       "\n",
       "    .dataframe thead th {\n",
       "        text-align: right;\n",
       "    }\n",
       "</style>\n",
       "<table border=\"1\" class=\"dataframe\">\n",
       "  <thead>\n",
       "    <tr style=\"text-align: right;\">\n",
       "      <th></th>\n",
       "      <th>ID</th>\n",
       "      <th>Year_Birth</th>\n",
       "      <th>Income</th>\n",
       "      <th>Kidhome</th>\n",
       "      <th>Teenhome</th>\n",
       "      <th>Recency</th>\n",
       "      <th>MntWines</th>\n",
       "      <th>MntFruits</th>\n",
       "      <th>MntMeatProducts</th>\n",
       "      <th>MntFishProducts</th>\n",
       "      <th>...</th>\n",
       "      <th>AcceptedCmp3</th>\n",
       "      <th>AcceptedCmp4</th>\n",
       "      <th>AcceptedCmp5</th>\n",
       "      <th>AcceptedCmp1</th>\n",
       "      <th>AcceptedCmp2</th>\n",
       "      <th>Complain</th>\n",
       "      <th>Z_CostContact</th>\n",
       "      <th>Z_Revenue</th>\n",
       "      <th>Response</th>\n",
       "      <th>Age</th>\n",
       "    </tr>\n",
       "  </thead>\n",
       "  <tbody>\n",
       "    <tr>\n",
       "      <th>count</th>\n",
       "      <td>2213.000000</td>\n",
       "      <td>2213.000000</td>\n",
       "      <td>2213.000000</td>\n",
       "      <td>2213.000000</td>\n",
       "      <td>2213.000000</td>\n",
       "      <td>2213.000000</td>\n",
       "      <td>2213.000000</td>\n",
       "      <td>2213.000000</td>\n",
       "      <td>2213.000000</td>\n",
       "      <td>2213.000000</td>\n",
       "      <td>...</td>\n",
       "      <td>2213.000000</td>\n",
       "      <td>2213.000000</td>\n",
       "      <td>2213.000000</td>\n",
       "      <td>2213.000000</td>\n",
       "      <td>2213.000000</td>\n",
       "      <td>2213.000000</td>\n",
       "      <td>2213.0</td>\n",
       "      <td>2213.0</td>\n",
       "      <td>2213.000000</td>\n",
       "      <td>2213.000000</td>\n",
       "    </tr>\n",
       "    <tr>\n",
       "      <th>mean</th>\n",
       "      <td>5586.899232</td>\n",
       "      <td>1968.917307</td>\n",
       "      <td>52236.581563</td>\n",
       "      <td>0.441934</td>\n",
       "      <td>0.505648</td>\n",
       "      <td>49.007682</td>\n",
       "      <td>305.153638</td>\n",
       "      <td>26.323995</td>\n",
       "      <td>166.962494</td>\n",
       "      <td>37.635337</td>\n",
       "      <td>...</td>\n",
       "      <td>0.073656</td>\n",
       "      <td>0.074108</td>\n",
       "      <td>0.072752</td>\n",
       "      <td>0.064166</td>\n",
       "      <td>0.013556</td>\n",
       "      <td>0.009038</td>\n",
       "      <td>3.0</td>\n",
       "      <td>11.0</td>\n",
       "      <td>0.150474</td>\n",
       "      <td>56.082693</td>\n",
       "    </tr>\n",
       "    <tr>\n",
       "      <th>std</th>\n",
       "      <td>3247.819194</td>\n",
       "      <td>11.700216</td>\n",
       "      <td>25178.603047</td>\n",
       "      <td>0.536965</td>\n",
       "      <td>0.544236</td>\n",
       "      <td>28.941864</td>\n",
       "      <td>337.305490</td>\n",
       "      <td>39.735932</td>\n",
       "      <td>224.226178</td>\n",
       "      <td>54.763278</td>\n",
       "      <td>...</td>\n",
       "      <td>0.261269</td>\n",
       "      <td>0.262005</td>\n",
       "      <td>0.259788</td>\n",
       "      <td>0.245104</td>\n",
       "      <td>0.115666</td>\n",
       "      <td>0.094657</td>\n",
       "      <td>0.0</td>\n",
       "      <td>0.0</td>\n",
       "      <td>0.357617</td>\n",
       "      <td>11.700216</td>\n",
       "    </tr>\n",
       "    <tr>\n",
       "      <th>min</th>\n",
       "      <td>0.000000</td>\n",
       "      <td>1940.000000</td>\n",
       "      <td>1730.000000</td>\n",
       "      <td>0.000000</td>\n",
       "      <td>0.000000</td>\n",
       "      <td>0.000000</td>\n",
       "      <td>0.000000</td>\n",
       "      <td>0.000000</td>\n",
       "      <td>0.000000</td>\n",
       "      <td>0.000000</td>\n",
       "      <td>...</td>\n",
       "      <td>0.000000</td>\n",
       "      <td>0.000000</td>\n",
       "      <td>0.000000</td>\n",
       "      <td>0.000000</td>\n",
       "      <td>0.000000</td>\n",
       "      <td>0.000000</td>\n",
       "      <td>3.0</td>\n",
       "      <td>11.0</td>\n",
       "      <td>0.000000</td>\n",
       "      <td>29.000000</td>\n",
       "    </tr>\n",
       "    <tr>\n",
       "      <th>25%</th>\n",
       "      <td>2815.000000</td>\n",
       "      <td>1959.000000</td>\n",
       "      <td>35246.000000</td>\n",
       "      <td>0.000000</td>\n",
       "      <td>0.000000</td>\n",
       "      <td>24.000000</td>\n",
       "      <td>24.000000</td>\n",
       "      <td>2.000000</td>\n",
       "      <td>16.000000</td>\n",
       "      <td>3.000000</td>\n",
       "      <td>...</td>\n",
       "      <td>0.000000</td>\n",
       "      <td>0.000000</td>\n",
       "      <td>0.000000</td>\n",
       "      <td>0.000000</td>\n",
       "      <td>0.000000</td>\n",
       "      <td>0.000000</td>\n",
       "      <td>3.0</td>\n",
       "      <td>11.0</td>\n",
       "      <td>0.000000</td>\n",
       "      <td>48.000000</td>\n",
       "    </tr>\n",
       "    <tr>\n",
       "      <th>50%</th>\n",
       "      <td>5455.000000</td>\n",
       "      <td>1970.000000</td>\n",
       "      <td>51373.000000</td>\n",
       "      <td>0.000000</td>\n",
       "      <td>0.000000</td>\n",
       "      <td>49.000000</td>\n",
       "      <td>175.000000</td>\n",
       "      <td>8.000000</td>\n",
       "      <td>68.000000</td>\n",
       "      <td>12.000000</td>\n",
       "      <td>...</td>\n",
       "      <td>0.000000</td>\n",
       "      <td>0.000000</td>\n",
       "      <td>0.000000</td>\n",
       "      <td>0.000000</td>\n",
       "      <td>0.000000</td>\n",
       "      <td>0.000000</td>\n",
       "      <td>3.0</td>\n",
       "      <td>11.0</td>\n",
       "      <td>0.000000</td>\n",
       "      <td>55.000000</td>\n",
       "    </tr>\n",
       "    <tr>\n",
       "      <th>75%</th>\n",
       "      <td>8420.000000</td>\n",
       "      <td>1977.000000</td>\n",
       "      <td>68487.000000</td>\n",
       "      <td>1.000000</td>\n",
       "      <td>1.000000</td>\n",
       "      <td>74.000000</td>\n",
       "      <td>505.000000</td>\n",
       "      <td>33.000000</td>\n",
       "      <td>232.000000</td>\n",
       "      <td>50.000000</td>\n",
       "      <td>...</td>\n",
       "      <td>0.000000</td>\n",
       "      <td>0.000000</td>\n",
       "      <td>0.000000</td>\n",
       "      <td>0.000000</td>\n",
       "      <td>0.000000</td>\n",
       "      <td>0.000000</td>\n",
       "      <td>3.0</td>\n",
       "      <td>11.0</td>\n",
       "      <td>0.000000</td>\n",
       "      <td>66.000000</td>\n",
       "    </tr>\n",
       "    <tr>\n",
       "      <th>max</th>\n",
       "      <td>11191.000000</td>\n",
       "      <td>1996.000000</td>\n",
       "      <td>666666.000000</td>\n",
       "      <td>2.000000</td>\n",
       "      <td>2.000000</td>\n",
       "      <td>99.000000</td>\n",
       "      <td>1493.000000</td>\n",
       "      <td>199.000000</td>\n",
       "      <td>1725.000000</td>\n",
       "      <td>259.000000</td>\n",
       "      <td>...</td>\n",
       "      <td>1.000000</td>\n",
       "      <td>1.000000</td>\n",
       "      <td>1.000000</td>\n",
       "      <td>1.000000</td>\n",
       "      <td>1.000000</td>\n",
       "      <td>1.000000</td>\n",
       "      <td>3.0</td>\n",
       "      <td>11.0</td>\n",
       "      <td>1.000000</td>\n",
       "      <td>85.000000</td>\n",
       "    </tr>\n",
       "  </tbody>\n",
       "</table>\n",
       "<p>8 rows × 27 columns</p>\n",
       "</div>"
      ],
      "text/plain": [
       "                 ID   Year_Birth         Income      Kidhome     Teenhome  \\\n",
       "count   2213.000000  2213.000000    2213.000000  2213.000000  2213.000000   \n",
       "mean    5586.899232  1968.917307   52236.581563     0.441934     0.505648   \n",
       "std     3247.819194    11.700216   25178.603047     0.536965     0.544236   \n",
       "min        0.000000  1940.000000    1730.000000     0.000000     0.000000   \n",
       "25%     2815.000000  1959.000000   35246.000000     0.000000     0.000000   \n",
       "50%     5455.000000  1970.000000   51373.000000     0.000000     0.000000   \n",
       "75%     8420.000000  1977.000000   68487.000000     1.000000     1.000000   \n",
       "max    11191.000000  1996.000000  666666.000000     2.000000     2.000000   \n",
       "\n",
       "           Recency     MntWines    MntFruits  MntMeatProducts  \\\n",
       "count  2213.000000  2213.000000  2213.000000      2213.000000   \n",
       "mean     49.007682   305.153638    26.323995       166.962494   \n",
       "std      28.941864   337.305490    39.735932       224.226178   \n",
       "min       0.000000     0.000000     0.000000         0.000000   \n",
       "25%      24.000000    24.000000     2.000000        16.000000   \n",
       "50%      49.000000   175.000000     8.000000        68.000000   \n",
       "75%      74.000000   505.000000    33.000000       232.000000   \n",
       "max      99.000000  1493.000000   199.000000      1725.000000   \n",
       "\n",
       "       MntFishProducts  ...  AcceptedCmp3  AcceptedCmp4  AcceptedCmp5  \\\n",
       "count      2213.000000  ...   2213.000000   2213.000000   2213.000000   \n",
       "mean         37.635337  ...      0.073656      0.074108      0.072752   \n",
       "std          54.763278  ...      0.261269      0.262005      0.259788   \n",
       "min           0.000000  ...      0.000000      0.000000      0.000000   \n",
       "25%           3.000000  ...      0.000000      0.000000      0.000000   \n",
       "50%          12.000000  ...      0.000000      0.000000      0.000000   \n",
       "75%          50.000000  ...      0.000000      0.000000      0.000000   \n",
       "max         259.000000  ...      1.000000      1.000000      1.000000   \n",
       "\n",
       "       AcceptedCmp1  AcceptedCmp2     Complain  Z_CostContact  Z_Revenue  \\\n",
       "count   2213.000000   2213.000000  2213.000000         2213.0     2213.0   \n",
       "mean       0.064166      0.013556     0.009038            3.0       11.0   \n",
       "std        0.245104      0.115666     0.094657            0.0        0.0   \n",
       "min        0.000000      0.000000     0.000000            3.0       11.0   \n",
       "25%        0.000000      0.000000     0.000000            3.0       11.0   \n",
       "50%        0.000000      0.000000     0.000000            3.0       11.0   \n",
       "75%        0.000000      0.000000     0.000000            3.0       11.0   \n",
       "max        1.000000      1.000000     1.000000            3.0       11.0   \n",
       "\n",
       "          Response          Age  \n",
       "count  2213.000000  2213.000000  \n",
       "mean      0.150474    56.082693  \n",
       "std       0.357617    11.700216  \n",
       "min       0.000000    29.000000  \n",
       "25%       0.000000    48.000000  \n",
       "50%       0.000000    55.000000  \n",
       "75%       0.000000    66.000000  \n",
       "max       1.000000    85.000000  \n",
       "\n",
       "[8 rows x 27 columns]"
      ]
     },
     "execution_count": 13,
     "metadata": {},
     "output_type": "execute_result"
    }
   ],
   "source": [
    "data_clean.describe()"
   ]
  },
  {
   "cell_type": "markdown",
   "metadata": {},
   "source": [
    "# Data Analysis"
   ]
  },
  {
   "cell_type": "markdown",
   "metadata": {
    "id": "mVlW8VtZW9SG"
   },
   "source": [
    "**Distribusi Usia Pelanggan**\n",
    "\n",
    "Setelah menghilangkan outliers, Distribusi Usia Pelanggan diberikan dibawah ini. Pelanggan Supermarket terbanyak berusia 46 hingga 56 tahun."
   ]
  },
  {
   "cell_type": "code",
   "execution_count": 14,
   "metadata": {
    "colab": {
     "base_uri": "https://localhost:8080/",
     "height": 377
    },
    "executionInfo": {
     "elapsed": 3539,
     "status": "ok",
     "timestamp": 1756295047782,
     "user": {
      "displayName": "Mangojak Siagian",
      "userId": "00232580206946922887"
     },
     "user_tz": -420
    },
    "id": "k2HxZQjNW8N0",
    "outputId": "df78c49a-20a5-4f7b-b1de-b685a3acdc60"
   },
   "outputs": [
    {
     "data": {
      "image/png": "[encoded data removed]",
      "text/plain": [
       "<Figure size 800x400 with 1 Axes>"
      ]
     },
     "metadata": {},
     "output_type": "display_data"
    }
   ],
   "source": [
    "import matplotlib.pyplot as plt\n",
    "import seaborn as sns\n",
    "\n",
    "plt.figure(figsize=(8, 4))\n",
    "sns.histplot(data_clean['Age'], bins=30, kde=True)\n",
    "plt.title('Distribusi Usia Pelanggan')\n",
    "plt.xlabel('Usia')\n",
    "plt.ylabel('Jumlah')\n",
    "plt.show()"
   ]
  },
  {
   "cell_type": "markdown",
   "metadata": {},
   "source": [
    "**Distribusi Status Pernikahan**\n",
    "\n",
    "Distribusi ini menunjukkan kebanyakan status pernikahan pelanggan adalah menikah dan yang tinggal bersama."
   ]
  },
  {
   "cell_type": "code",
   "execution_count": 15,
   "metadata": {
    "colab": {
     "base_uri": "https://localhost:8080/",
     "height": 377
    },
    "executionInfo": {
     "elapsed": 3539,
     "status": "ok",
     "timestamp": 1756295047782,
     "user": {
      "displayName": "Mangojak Siagian",
      "userId": "00232580206946922887"
     },
     "user_tz": -420
    },
    "id": "k2HxZQjNW8N0",
    "outputId": "df78c49a-20a5-4f7b-b1de-b685a3acdc60"
   },
   "outputs": [
    {
     "data": {
      "image/png": "[encoded data removed]",
      "text/plain": [
       "<Figure size 800x400 with 1 Axes>"
      ]
     },
     "metadata": {},
     "output_type": "display_data"
    }
   ],
   "source": [
    "import matplotlib.pyplot as plt\n",
    "import seaborn as sns\n",
    "\n",
    "plt.figure(figsize=(8, 4))\n",
    "sns.histplot(data_clean['Marital_Status'], bins=30, kde=True)\n",
    "plt.title('Distribusi Status Pernikahan')\n",
    "plt.xlabel('Status Pernikahan')\n",
    "plt.ylabel('Jumlah')\n",
    "plt.show()"
   ]
  },
  {
   "cell_type": "markdown",
   "metadata": {
    "id": "rq3uxrnqXHmX"
   },
   "source": [
    "**Rata-rata Pengeluaran per Produk**\n",
    "\n",
    "Histogram dibawah ini menunjukkan Rata-rata Pengeluaran per Produk.\n",
    "Produk wine dan daging adalah belanja tertinggi diikuti emas dan ikan. "
   ]
  },
  {
   "cell_type": "code",
   "execution_count": 16,
   "metadata": {
    "colab": {
     "base_uri": "https://localhost:8080/",
     "height": 487
    },
    "executionInfo": {
     "elapsed": 1033,
     "status": "ok",
     "timestamp": 1756295069465,
     "user": {
      "displayName": "Mangojak Siagian",
      "userId": "00232580206946922887"
     },
     "user_tz": -420
    },
    "id": "AjZwPZDJXPVa",
    "outputId": "e26865a5-140a-416e-c98f-53c8f85c5729"
   },
   "outputs": [
    {
     "data": {
      "image/png": "[encoded data removed]",
      "text/plain": [
       "<Figure size 640x480 with 1 Axes>"
      ]
     },
     "metadata": {},
     "output_type": "display_data"
    }
   ],
   "source": [
    "import matplotlib.pyplot as plt\n",
    "spending_cols = ['MntWines','MntMeatProducts','MntGoldProds','MntFishProducts','MntSweetProducts','MntFruits']\n",
    "data_clean[spending_cols].mean().sort_values().plot(kind='barh', color='skyblue')\n",
    "plt.title('Rata-rata Pengeluaran per Produk')\n",
    "plt.xlabel('Rata-rata Pengeluaran')\n",
    "plt.tight_layout()\n",
    "plt.show()"
   ]
  },
  {
   "cell_type": "markdown",
   "metadata": {
    "id": "gHZ7pesR-kGA"
   },
   "source": [
    "Distribusi dan bar chart diatas menunjukkan bahwa pelanggan berusia 30-45 tahun melakukan pembelian tertinggi untuk produk wine dan daging."
   ]
  },
  {
   "cell_type": "markdown",
   "metadata": {
    "id": "mtfVr5GzXVZL"
   },
   "source": [
    "**Response Terhadap Promosi/Kampanye**\n",
    "\n",
    "Response terhadap kampanye promosi yang telah dilakukan relatif rendah."
   ]
  },
  {
   "cell_type": "code",
   "execution_count": 18,
   "metadata": {},
   "outputs": [
    {
     "name": "stdout",
     "output_type": "stream",
     "text": [
      "142\n"
     ]
    }
   ],
   "source": [
    "print(data_clean['AcceptedCmp1'].sum())"
   ]
  },
  {
   "cell_type": "code",
   "execution_count": 20,
   "metadata": {
    "colab": {
     "base_uri": "https://localhost:8080/",
     "height": 616
    },
    "executionInfo": {
     "elapsed": 1350,
     "status": "ok",
     "timestamp": 1756295077879,
     "user": {
      "displayName": "Mangojak Siagian",
      "userId": "00232580206946922887"
     },
     "user_tz": -420
    },
    "id": "hcFm7VYZXdRp",
    "outputId": "47bb4462-16cc-4fe8-be6c-768099ea7833"
   },
   "outputs": [
    {
     "data": {
      "image/png": "[encoded data removed]",
      "text/plain": [
       "<Figure size 640x480 with 1 Axes>"
      ]
     },
     "metadata": {},
     "output_type": "display_data"
    }
   ],
   "source": [
    "import matplotlib.pyplot as plt\n",
    "import seaborn as sns\n",
    "campaign_cols = ['AcceptedCmp1','AcceptedCmp2','AcceptedCmp3','AcceptedCmp4','AcceptedCmp5','Response']\n",
    "data_clean['TotalAccepted'] = data_clean[campaign_cols].sum(axis=1)\n",
    "sns.countplot(x='TotalAccepted', data=data_clean)\n",
    "plt.title('Respons terhadap Kampanye')\n",
    "plt.xlabel('Jumlah Kampanye Diterima')\n",
    "plt.ylabel('Jumlah Pelanggan')\n",
    "plt.tight_layout()\n",
    "plt.show()"
   ]
  },
  {
   "cell_type": "code",
   "execution_count": 21,
   "metadata": {},
   "outputs": [
    {
     "name": "stdout",
     "output_type": "stream",
     "text": [
      "993\n"
     ]
    }
   ],
   "source": [
    "print(data_clean['TotalAccepted'].sum())"
   ]
  },
  {
   "cell_type": "markdown",
   "metadata": {
    "id": "lxwwWmzaXjdl"
   },
   "source": [
    "**Rata-rata Pembelian per Saluran**\n",
    "Dari beberapa saluran pembelian, Pelanggan masih memilih pembelian di toko dibandingkan pembelian melalui web dan atau katalog."
   ]
  },
  {
   "cell_type": "code",
   "execution_count": 25,
   "metadata": {
    "colab": {
     "base_uri": "https://localhost:8080/",
     "height": 487
    },
    "executionInfo": {
     "elapsed": 2438,
     "status": "ok",
     "timestamp": 1756295091592,
     "user": {
      "displayName": "Mangojak Siagian",
      "userId": "00232580206946922887"
     },
     "user_tz": -420
    },
    "id": "YIIw1ZjKXoZl",
    "outputId": "dfb659c7-b065-45fe-b7a5-c205a0fa0e6d"
   },
   "outputs": [
    {
     "data": {
      "image/png": "[encoded data removed]",
      "text/plain": [
       "<Figure size 640x480 with 1 Axes>"
      ]
     },
     "metadata": {},
     "output_type": "display_data"
    }
   ],
   "source": [
    "channel_cols = ['NumWebPurchases','NumCatalogPurchases','NumStorePurchases','NumDealsPurchases']\n",
    "df_clean[channel_cols].mean().plot(kind='bar', color='lightgreen')\n",
    "plt.title('Rata-rata Pembelian per Saluran')\n",
    "plt.ylabel('Jumlah Pembelian')\n",
    "plt.tight_layout()\n",
    "plt.show()"
   ]
  },
  {
   "cell_type": "markdown",
   "metadata": {
    "id": "C4iv8r8_Xwq9"
   },
   "source": [
    "**Distribusi Pendidikan Pelanggan**\n",
    "\n",
    "Mayoritas pelanggan memiliki pendidikan sarjana dan master."
   ]
  },
  {
   "cell_type": "code",
   "execution_count": 17,
   "metadata": {
    "colab": {
     "base_uri": "https://localhost:8080/",
     "height": 487
    },
    "executionInfo": {
     "elapsed": 3821,
     "status": "ok",
     "timestamp": 1756295102488,
     "user": {
      "displayName": "Mangojak Siagian",
      "userId": "00232580206946922887"
     },
     "user_tz": -420
    },
    "id": "z-5io8-fX03r",
    "outputId": "214c38c6-c234-4676-edee-b7310ccaa3a1"
   },
   "outputs": [
    {
     "data": {
      "image/png": "[encoded data removed]",
      "text/plain": [
       "<Figure size 640x480 with 1 Axes>"
      ]
     },
     "metadata": {},
     "output_type": "display_data"
    }
   ],
   "source": [
    "sns.countplot(y='Education', data=df_clean, order=df_clean['Education'].value_counts().index)\n",
    "plt.title('Distribusi Pendidikan Pelanggan')\n",
    "plt.xlabel('Jumlah Pelanggan')\n",
    "plt.tight_layout()\n",
    "plt.show()"
   ]
  },
  {
   "cell_type": "markdown",
   "metadata": {},
   "source": [
    "# Rekomendasi"
   ]
  },
  {
   "cell_type": "markdown",
   "metadata": {
    "id": "3QPT5jwr_0bJ"
   },
   "source": [
    "1. Promosi sebaiknya menargetkan kelompok umur 40-70 tahun dengan program berkelompok menurut usia\n",
    "2. Evaluasi program kampanye promosi isi dan salurannya. Lakukan A/B testing untuk meningkatkan efektivitas\n",
    "3. Tingkatkan kesan / pengalaman belanja di toko dan mendorong pembelian digital yang lebih menyeluruh tidak mengenal tempat\n",
    "4. Perbanyak stok dan variasi produk unggulan serta gabungkan dengan produk lain untuk meningkatkan penjualan\n",
    "5. Gunakan pendekatan komunikasi dengan pelanggan sesuai dengan tingkat pendidikan dan gaya hidup."
   ]
  }
 ],
 "metadata": {
  "colab": {
   "authorship_tag": "ABX9TyNmVijI8sWByS/y7cC3KL6D",
   "provenance": []
  },
  "kernelspec": {
   "display_name": "Python 3 (ipykernel)",
   "language": "python",
   "name": "python3"
  },
  "language_info": {
   "codemirror_mode": {
    "name": "ipython",
    "version": 3
   },
   "file_extension": ".py",
   "mimetype": "text/x-python",
   "name": "python",
   "nbconvert_exporter": "python",
   "pygments_lexer": "ipython3",
   "version": "3.12.7"
  }
 },
 "nbformat": 4,
 "nbformat_minor": 4
}
